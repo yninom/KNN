{
 "cells": [
  {
   "attachments": {},
   "cell_type": "markdown",
   "id": "18bd2bb7",
   "metadata": {},
   "source": [
    "# KNN implementation on the MNIST"
   ]
  },
  {
   "cell_type": "code",
   "execution_count": 1,
   "id": "eafc6f09",
   "metadata": {},
   "outputs": [],
   "source": [
    "import numpy as np\n",
    "import pandas as pd"
   ]
  },
  {
   "cell_type": "code",
   "execution_count": 2,
   "id": "3ebc39fc",
   "metadata": {},
   "outputs": [],
   "source": [
    "from sklearn.datasets import load_digits\n",
    "from sklearn.model_selection import train_test_split\n",
    "digits = load_digits()"
   ]
  },
  {
   "cell_type": "code",
   "execution_count": 3,
   "id": "29709b5e",
   "metadata": {},
   "outputs": [],
   "source": [
    "with open('mnist-y.data') as file:  #6000 labels\n",
    "    chars = [line[0] for line in file]"
   ]
  },
  {
   "cell_type": "code",
   "execution_count": 4,
   "id": "c0eef959",
   "metadata": {},
   "outputs": [],
   "source": [
    "vectors = []  #list of vectors\n",
    "with open('mnist-x.data') as file:   #6000 vectors of 784 components(28*28), all 0 or 1\n",
    "    for line in file:\n",
    "        vectors.append([1.0 if float(v) == 1 else -1.0 for v in line.strip().split(',')]) #turn 1 in 1 and 0 in -1"
   ]
  },
  {
   "cell_type": "code",
   "execution_count": 5,
   "id": "ceacbd18",
   "metadata": {},
   "outputs": [
    {
     "data": {
      "text/plain": [
       "<Figure size 640x480 with 0 Axes>"
      ]
     },
     "metadata": {},
     "output_type": "display_data"
    },
    {
     "data": {
      "image/png": "[encoded data removed]",
      "text/plain": [
       "<Figure size 480x480 with 1 Axes>"
      ]
     },
     "metadata": {},
     "output_type": "display_data"
    }
   ],
   "source": [
    "import matplotlib.pyplot as plt\n",
    "plt.gray()\n",
    "plt.matshow(digits.images[1001])\n",
    "plt.show()"
   ]
  },
  {
   "cell_type": "code",
   "execution_count": 6,
   "id": "cc8a3f45",
   "metadata": {},
   "outputs": [],
   "source": [
    "digits['data'] = np.where(digits['data']>0,1,-1)"
   ]
  },
  {
   "cell_type": "code",
   "execution_count": 7,
   "id": "89fa14cf",
   "metadata": {},
   "outputs": [],
   "source": [
    "vectors = np.array(vectors)"
   ]
  },
  {
   "cell_type": "code",
   "execution_count": 8,
   "id": "fa3c5bc9",
   "metadata": {},
   "outputs": [
    {
     "data": {
      "text/plain": [
       "(6000, 784)"
      ]
     },
     "execution_count": 8,
     "metadata": {},
     "output_type": "execute_result"
    }
   ],
   "source": [
    "vectors.shape"
   ]
  },
  {
   "cell_type": "code",
   "execution_count": 9,
   "id": "08aa0774",
   "metadata": {},
   "outputs": [],
   "source": [
    "X_train, X_test, y_train, y_test = train_test_split(vectors,chars,test_size=0.20, random_state=42)"
   ]
  },
  {
   "cell_type": "code",
   "execution_count": 10,
   "id": "16980ef9",
   "metadata": {},
   "outputs": [
    {
     "data": {
      "text/plain": [
       "(4800, 784)"
      ]
     },
     "execution_count": 10,
     "metadata": {},
     "output_type": "execute_result"
    }
   ],
   "source": [
    "X_train.shape"
   ]
  },
  {
   "cell_type": "code",
   "execution_count": 11,
   "id": "d2f91b76",
   "metadata": {},
   "outputs": [
    {
     "data": {
      "text/plain": [
       "(1200, 784)"
      ]
     },
     "execution_count": 11,
     "metadata": {},
     "output_type": "execute_result"
    }
   ],
   "source": [
    "X_test.shape"
   ]
  },
  {
   "attachments": {},
   "cell_type": "markdown",
   "id": "42b38929",
   "metadata": {},
   "source": [
    "# Trying to implement KNN"
   ]
  },
  {
   "cell_type": "code",
   "execution_count": 12,
   "id": "8268de0a",
   "metadata": {},
   "outputs": [],
   "source": [
    "def predict(X_train, X_test, y_train, K):\n",
    "    closest_class = []\n",
    "    for i in range(len(X_test)):\n",
    "        # Calcular la distancia euclidiana entre el punto actual de prueba y todos los puntos de entrenamiento\n",
    "        distances = np.sqrt(np.sum((X_train - X_test[i])**2, axis=1))\n",
    "        # Seleccionar los K vecinos más cercanos despues de ordenar las distancias obtenidas de menor a mayor\n",
    "        K_nearest_indices = np.argsort(distances)[:K]\n",
    "        #Convertir y_train en array para poder indexar de acuerdo a los KNN\n",
    "        K_nearest_classes = np.array(y_train)[K_nearest_indices].astype(int)\n",
    "        # Calcular la clase mas repetida entre los K vecinos más cercanos\n",
    "        majority_class = np.argmax(np.bincount(K_nearest_classes))\n",
    "        closest_class.append(majority_class)\n",
    "    return closest_class"
   ]
  },
  {
   "cell_type": "code",
   "execution_count": null,
   "id": "4fb95dc3",
   "metadata": {},
   "outputs": [],
   "source": [
    "# result = predict(X_train, X_test, y_train, K=5)"
   ]
  },
  {
   "cell_type": "code",
   "execution_count": 15,
   "id": "715fefca",
   "metadata": {},
   "outputs": [],
   "source": [
    "def test3(K_values, y_test):\n",
    "    accuracy_values = []\n",
    "    #Para los valores que queramos de K\n",
    "    for K in K_values:\n",
    "        print(\"K =\", K)\n",
    "        #Iniciar contador\n",
    "        success = 0\n",
    "        #Predecir para los puntos de prueba y comparar con los labels de los puntos de prueba\n",
    "        predicted_classes = predict(X_train, X_test, y_train, K)\n",
    "        for i in range(len(X_test)):\n",
    "            if predicted_classes[i] == int(y_test[i]):\n",
    "                success += 1\n",
    "        #Calcular el porcentaje de predicciones correctas\n",
    "        accuracy = float(success) / len(X_test)\n",
    "        accuracy_values.append(accuracy)\n",
    "        print(\"Accuracy:\", accuracy)"
   ]
  },
  {
   "cell_type": "code",
   "execution_count": 16,
   "id": "5830c88e",
   "metadata": {},
   "outputs": [
    {
     "name": "stdout",
     "output_type": "stream",
     "text": [
      "K = 1\n",
      "Accuracy: 0.9325\n",
      "K = 2\n",
      "Accuracy: 0.9116666666666666\n",
      "K = 5\n",
      "Accuracy: 0.9208333333333333\n",
      "K = 10\n",
      "Accuracy: 0.9116666666666666\n",
      "K = 15\n",
      "Accuracy: 0.9033333333333333\n",
      "K = 20\n",
      "Accuracy: 0.8983333333333333\n",
      "K = 25\n",
      "Accuracy: 0.8933333333333333\n",
      "K = 50\n",
      "Accuracy: 0.865\n",
      "K = 100\n",
      "Accuracy: 0.825\n"
     ]
    }
   ],
   "source": [
    "K_values = [1, 2, 5, 10, 15, 20, 25, 50, 100]\n",
    "test3(K_values, y_test)"
   ]
  },
  {
   "cell_type": "markdown",
   "id": "49edf076",
   "metadata": {},
   "source": [
    "## Prostate"
   ]
  },
  {
   "cell_type": "code",
   "execution_count": 17,
   "id": "d93ed9e6",
   "metadata": {},
   "outputs": [],
   "source": [
    "import pandas as pd"
   ]
  },
  {
   "attachments": {},
   "cell_type": "markdown",
   "id": "54a7cb2e",
   "metadata": {},
   "source": [
    "https://search.r-project.org/CRAN/refmans/Brq/html/Prostate.html"
   ]
  },
  {
   "cell_type": "code",
   "execution_count": 19,
   "id": "d993ea3a",
   "metadata": {},
   "outputs": [
    {
     "name": "stdout",
     "output_type": "stream",
     "text": [
      "<class 'pandas.core.frame.DataFrame'>\n",
      "RangeIndex: 97 entries, 0 to 96\n",
      "Data columns (total 9 columns):\n",
      " #   Column   Non-Null Count  Dtype  \n",
      "---  ------   --------------  -----  \n",
      " 0   lcavol   97 non-null     float64\n",
      " 1   lweight  97 non-null     float64\n",
      " 2   age      97 non-null     int64  \n",
      " 3   lbph     97 non-null     float64\n",
      " 4   svi      97 non-null     int64  \n",
      " 5   lcp      97 non-null     float64\n",
      " 6   gleason  97 non-null     int64  \n",
      " 7   pgg45    97 non-null     int64  \n",
      " 8   lpsa     97 non-null     float64\n",
      "dtypes: float64(5), int64(4)\n",
      "memory usage: 6.9 KB\n"
     ]
    }
   ],
   "source": [
    "prostate_data = pd.read_csv('prostate.csv')\n",
    "prostate_data.info()"
   ]
  },
  {
   "attachments": {},
   "cell_type": "markdown",
   "id": "311716fc",
   "metadata": {},
   "source": [
    "Divide the data set, and apply the K-NN. Test the accuracy, the training error, and the test error."
   ]
  },
  {
   "cell_type": "code",
   "execution_count": 20,
   "id": "3db28879",
   "metadata": {},
   "outputs": [],
   "source": [
    "prostate_train, prostate_test = train_test_split(prostate_data,test_size=0.20, random_state=42)"
   ]
  },
  {
   "cell_type": "markdown",
   "id": "bbb4e6ce",
   "metadata": {},
   "source": [
    "# Perceptron"
   ]
  },
  {
   "cell_type": "code",
   "execution_count": null,
   "id": "5276d8be",
   "metadata": {},
   "outputs": [],
   "source": [
    "# data = [{'vector': v, 'char': c} for (v, c) in zip(vectors, chars)]"
   ]
  },
  {
   "cell_type": "code",
   "execution_count": null,
   "id": "a535dd95",
   "metadata": {},
   "outputs": [],
   "source": [
    "# def train(target_char, opposite_char, steps):\n",
    "#     train_data = data[:5000]\n",
    "#     train_data = [e for e in train_data if e['char'] in (target_char, opposite_char)]\n",
    "#     w = np.zeros(784)\n",
    "#     i = 0\n",
    "#     weights = w\n",
    "#     # Implement perceptron, remember:\n",
    "#     if z >= 0 and y == opposite_char:\n",
    "#         #TODO\n",
    "#     elif z < 0 and y == target_char:\n",
    "#         #TODO\n",
    "#     return w\n",
    "\n",
    "# def error(target_char, opposite_char,data,w):\n",
    "#     success = 0\n",
    "#     for e in data:\n",
    "#         z = np.dot(e['vector'], w)\n",
    "#         if (z >= 0 and e['char'] == target_char) or (z < 0 and e['char'] == opposite_char):\n",
    "#             success += 1\n",
    "#     return float(success) / len(data)\n",
    "\n",
    "# def test(target_char, opposite_char,weights):\n",
    "#     success = 0\n",
    "#     examples = data[5000:]\n",
    "\n",
    "#     examples = [e for e in examples if e['char'] in (target_char, opposite_char)]\n",
    "\n",
    "#     for e in examples:\n",
    "#         z = np.dot(e['vector'], weights)\n",
    "#         if (z >= 0 and e['char'] == target_char) or (z < 0 and e['char'] == opposite_char):\n",
    "#             success += 1\n",
    "\n",
    "#     return float(success) / len(examples)"
   ]
  },
  {
   "cell_type": "code",
   "execution_count": null,
   "id": "065433ef",
   "metadata": {},
   "outputs": [],
   "source": [
    "# weights = train('1','2',100)"
   ]
  },
  {
   "cell_type": "code",
   "execution_count": null,
   "id": "a61e8dfa",
   "metadata": {},
   "outputs": [],
   "source": [
    "# test('1','2',weights)"
   ]
  },
  {
   "cell_type": "code",
   "execution_count": null,
   "id": "13b67877",
   "metadata": {},
   "outputs": [],
   "source": []
  }
 ],
 "metadata": {
  "kernelspec": {
   "display_name": "homeworks",
   "language": "python",
   "name": "python3"
  },
  "language_info": {
   "codemirror_mode": {
    "name": "ipython",
    "version": 3
   },
   "file_extension": ".py",
   "mimetype": "text/x-python",
   "name": "python",
   "nbconvert_exporter": "python",
   "pygments_lexer": "ipython3",
   "version": "3.11.2"
  },
  "vscode": {
   "interpreter": {
    "hash": "49e69bb4716113a91a66de989ea890dd75964954426edc72a646151dbf8fe411"
   }
  }
 },
 "nbformat": 4,
 "nbformat_minor": 5
}
