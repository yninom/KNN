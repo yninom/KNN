{
 "cells": [
  {
   "cell_type": "code",
   "execution_count": null,
   "id": "eafc6f09",
   "metadata": {},
   "outputs": [],
   "source": [
    "import numpy as np\n",
    "import pandas as pd"
   ]
  },
  {
   "cell_type": "code",
   "execution_count": null,
   "id": "3ebc39fc",
   "metadata": {},
   "outputs": [],
   "source": [
    "from sklearn.datasets import load_digits\n",
    "from sklearn.model_selection import train_test_split\n",
    "digits = load_digits()"
   ]
  },
  {
   "cell_type": "code",
   "execution_count": null,
   "id": "29709b5e",
   "metadata": {},
   "outputs": [],
   "source": [
    "with open('mnist-y.data') as file:  #6000 labels\n",
    "    chars = [line[0] for line in file]"
   ]
  },
  {
   "cell_type": "code",
   "execution_count": null,
   "id": "c0eef959",
   "metadata": {},
   "outputs": [],
   "source": [
    "vectors = []  #list of vectors\n",
    "with open('mnist-x.data') as file:   #6000 vectors of 784 components(28*28), all 0 or 1\n",
    "    for line in file:\n",
    "        vectors.append([1.0 if float(v) == 1 else -1.0 for v in line.strip().split(',')]) #turn 1 in 1 and 0 in -1"
   ]
  },
  {
   "cell_type": "code",
   "execution_count": null,
   "id": "ceacbd18",
   "metadata": {},
   "outputs": [],
   "source": [
    "import matplotlib.pyplot as plt\n",
    "plt.gray()\n",
    "plt.matshow(digits.images[1001])\n",
    "plt.show()"
   ]
  },
  {
   "cell_type": "markdown",
   "id": "89608ad5",
   "metadata": {},
   "source": [
    "# KNN"
   ]
  },
  {
   "cell_type": "code",
   "execution_count": null,
   "id": "cc8a3f45",
   "metadata": {},
   "outputs": [],
   "source": [
    "digits['data'] = np.where(digits['data']>0,1,-1)"
   ]
  },
  {
   "cell_type": "code",
   "execution_count": null,
   "id": "89fa14cf",
   "metadata": {},
   "outputs": [],
   "source": [
    "vectors = np.array(vectors)"
   ]
  },
  {
   "cell_type": "code",
   "execution_count": null,
   "id": "fa3c5bc9",
   "metadata": {},
   "outputs": [],
   "source": [
    "vectors.shape"
   ]
  },
  {
   "cell_type": "code",
   "execution_count": null,
   "id": "08aa0774",
   "metadata": {},
   "outputs": [],
   "source": [
    "X_train, X_test, y_train, y_test = train_test_split(vectors,chars,test_size=0.20, random_state=42)"
   ]
  },
  {
   "cell_type": "code",
   "execution_count": null,
   "id": "16980ef9",
   "metadata": {},
   "outputs": [],
   "source": [
    "X_train.shape"
   ]
  },
  {
   "cell_type": "code",
   "execution_count": null,
   "id": "d2f91b76",
   "metadata": {},
   "outputs": [],
   "source": [
    "X_test.shape"
   ]
  },
  {
   "attachments": {},
   "cell_type": "markdown",
   "id": "42b38929",
   "metadata": {},
   "source": [
    "# Trying to implement KNN"
   ]
  },
  {
   "attachments": {},
   "cell_type": "markdown",
   "id": "4f21509b",
   "metadata": {},
   "source": [
    "I need to calculate the distance between the vectors. Here I calculate it with euclidean distance $p=2$ and store the distances in a dataframe."
   ]
  },
  {
   "cell_type": "code",
   "execution_count": null,
   "id": "fd4640c1",
   "metadata": {},
   "outputs": [],
   "source": [
    "len(X_train[:,0])"
   ]
  },
  {
   "cell_type": "code",
   "execution_count": null,
   "id": "a42f2bdc",
   "metadata": {},
   "outputs": [],
   "source": [
    "def euclidean_distance(a, b):\n",
    "    \n",
    "    dim = len(a) # Store the number of dimensions\n",
    "    distance = 0 # Set initial distance to 0\n",
    "    \n",
    "    for d in range(dim): # Calculate Minkowski distance using parameter p\n",
    "        distance += abs(a[d] - b[d])**2\n",
    "        \n",
    "    distance = distance**(1/2)\n",
    "    \n",
    "    return distance"
   ]
  },
  {
   "cell_type": "code",
   "execution_count": null,
   "id": "9a3932f8",
   "metadata": {},
   "outputs": [],
   "source": [
    "test_point = vectors[0,:]  #Test point\n",
    "distances = [] #list to store the distance between all points and test point\n",
    "\n",
    "for i in range(len(X_train[:,0])): #For i in the number of vectors\n",
    "    \n",
    "    distances.append(euclidean_distance(test_point, X_train[i,:]))  #store the distances between test point and the train vectors\n",
    "\n",
    "distances_train = pd.DataFrame(data=distances, columns=['Euclidean Distance']) #create the dataframe\n",
    "distances_train.head()"
   ]
  },
  {
   "cell_type": "code",
   "execution_count": null,
   "id": "6179c0ea",
   "metadata": {},
   "outputs": [],
   "source": [
    "distances_train.shape"
   ]
  },
  {
   "attachments": {},
   "cell_type": "markdown",
   "id": "f27fa713",
   "metadata": {},
   "source": [
    "I added the labels to the dataframe to link the calculated distance to the correspondent vector class. Then I sort thedistances from lower to higher."
   ]
  },
  {
   "cell_type": "code",
   "execution_count": null,
   "id": "136493d7",
   "metadata": {},
   "outputs": [],
   "source": [
    "distances_train['Labels'] = y_train   #add the train labels to the calculated distances"
   ]
  },
  {
   "cell_type": "code",
   "execution_count": null,
   "id": "6e78f0fc",
   "metadata": {},
   "outputs": [],
   "source": [
    "K=20  #define how many neighbors\n",
    "distances_sorted = distances_train.sort_values(by=['Euclidean Distance'], axis=0)[:K] #sort from - to +\n",
    "distances_sorted"
   ]
  },
  {
   "attachments": {},
   "cell_type": "markdown",
   "id": "ba1d5696",
   "metadata": {},
   "source": [
    "Now I should obtain the most repeated label."
   ]
  },
  {
   "cell_type": "code",
   "execution_count": null,
   "id": "196170c2",
   "metadata": {},
   "outputs": [],
   "source": [
    "# most_common = distances_sorted['Labels'].mode()[0]  #calculate the mode of the labels but get a str"
   ]
  },
  {
   "cell_type": "code",
   "execution_count": null,
   "id": "5908ff9e",
   "metadata": {},
   "outputs": [],
   "source": [
    "# from collections import Counter  #using counter\n",
    "# counts = Counter(distances_sorted['Labels'])\n",
    "# most_common = counts.most_common()[0][0]"
   ]
  },
  {
   "cell_type": "code",
   "execution_count": null,
   "id": "b85bb0c1",
   "metadata": {},
   "outputs": [],
   "source": [
    "X_test[0,:].shape"
   ]
  },
  {
   "cell_type": "code",
   "execution_count": null,
   "id": "6f9ac4a9",
   "metadata": {},
   "outputs": [],
   "source": [
    "X_train[0,:].shape"
   ]
  },
  {
   "cell_type": "code",
   "execution_count": null,
   "id": "7348565a",
   "metadata": {},
   "outputs": [],
   "source": [
    "len(X_train[:,0])"
   ]
  },
  {
   "cell_type": "code",
   "execution_count": null,
   "id": "3599f174",
   "metadata": {},
   "outputs": [],
   "source": [
    "def predict(X_train, X_test, y_train, K): #p and y_test\n",
    "    \n",
    "    predicted_labels = []\n",
    "    for test_point in X_test:\n",
    "        \n",
    "        distances = []\n",
    "        for train_point in X_train:\n",
    "            distance = euclidean_distance(test_point, train_point)\n",
    "            distances.append(distance)\n",
    "            \n",
    "    distances_train = pd.DataFrame(data=distances, columns=['Euclidean Distance'])    \n",
    "    distances_train['Labels'] = y_train \n",
    "\n",
    "    distances_sorted = distances_train.sort_values(by=['Euclidean Distance'], axis=0)[:K] #sort from - to +\n",
    "    closest_class = distances_sorted['Labels'].mode()[0]\n",
    "    predicted_labels.append(closest_class)\n",
    "    \n",
    "    return closest_class"
   ]
  },
  {
   "cell_type": "code",
   "execution_count": null,
   "id": "06467499",
   "metadata": {},
   "outputs": [],
   "source": [
    "predict(X_train, X_test, y_train, 20)"
   ]
  },
  {
   "cell_type": "code",
   "execution_count": null,
   "id": "6f3ea75b",
   "metadata": {},
   "outputs": [],
   "source": [
    "def test():\n",
    "    success = 0\n",
    "    examples = X_test\n",
    "    for e in range(len(examples)):\n",
    "        z = predict(examples[e])\n",
    "        if z == y_test[e]:\n",
    "            success += 1\n",
    "    return float(success) / len(examples)"
   ]
  },
  {
   "cell_type": "markdown",
   "id": "49edf076",
   "metadata": {},
   "source": [
    "## Prostate"
   ]
  },
  {
   "cell_type": "code",
   "execution_count": null,
   "id": "d93ed9e6",
   "metadata": {},
   "outputs": [],
   "source": [
    "import pandas as pd"
   ]
  },
  {
   "cell_type": "code",
   "execution_count": null,
   "id": "d993ea3a",
   "metadata": {},
   "outputs": [],
   "source": [
    "# prostate_data = pd.read_csv('prostate.csv')"
   ]
  },
  {
   "cell_type": "code",
   "execution_count": null,
   "id": "dcc7b2cc",
   "metadata": {},
   "outputs": [],
   "source": [
    "#Divide the data set, and apply the K-NN. Test the accuracy, the training error, and the test error."
   ]
  },
  {
   "cell_type": "markdown",
   "id": "bbb4e6ce",
   "metadata": {},
   "source": [
    "# Perceptron"
   ]
  },
  {
   "cell_type": "code",
   "execution_count": null,
   "id": "5276d8be",
   "metadata": {},
   "outputs": [],
   "source": [
    "# data = [{'vector': v, 'char': c} for (v, c) in zip(vectors, chars)]"
   ]
  },
  {
   "cell_type": "code",
   "execution_count": null,
   "id": "a535dd95",
   "metadata": {},
   "outputs": [],
   "source": [
    "# def train(target_char, opposite_char, steps):\n",
    "#     train_data = data[:5000]\n",
    "#     train_data = [e for e in train_data if e['char'] in (target_char, opposite_char)]\n",
    "#     w = np.zeros(784)\n",
    "#     i = 0\n",
    "#     weights = w\n",
    "#     # Implement perceptron, remember:\n",
    "#     if z >= 0 and y == opposite_char:\n",
    "#         #TODO\n",
    "#     elif z < 0 and y == target_char:\n",
    "#         #TODO\n",
    "#     return w\n",
    "\n",
    "# def error(target_char, opposite_char,data,w):\n",
    "#     success = 0\n",
    "#     for e in data:\n",
    "#         z = np.dot(e['vector'], w)\n",
    "#         if (z >= 0 and e['char'] == target_char) or (z < 0 and e['char'] == opposite_char):\n",
    "#             success += 1\n",
    "#     return float(success) / len(data)\n",
    "\n",
    "# def test(target_char, opposite_char,weights):\n",
    "#     success = 0\n",
    "#     examples = data[5000:]\n",
    "\n",
    "#     examples = [e for e in examples if e['char'] in (target_char, opposite_char)]\n",
    "\n",
    "#     for e in examples:\n",
    "#         z = np.dot(e['vector'], weights)\n",
    "#         if (z >= 0 and e['char'] == target_char) or (z < 0 and e['char'] == opposite_char):\n",
    "#             success += 1\n",
    "\n",
    "#     return float(success) / len(examples)"
   ]
  },
  {
   "cell_type": "code",
   "execution_count": null,
   "id": "065433ef",
   "metadata": {},
   "outputs": [],
   "source": [
    "# weights = train('1','2',100)"
   ]
  },
  {
   "cell_type": "code",
   "execution_count": null,
   "id": "a61e8dfa",
   "metadata": {},
   "outputs": [],
   "source": [
    "# test('1','2',weights)"
   ]
  },
  {
   "cell_type": "code",
   "execution_count": null,
   "id": "13b67877",
   "metadata": {},
   "outputs": [],
   "source": []
  }
 ],
 "metadata": {
  "kernelspec": {
   "display_name": "homeworks",
   "language": "python",
   "name": "python3"
  },
  "language_info": {
   "codemirror_mode": {
    "name": "ipython",
    "version": 3
   },
   "file_extension": ".py",
   "mimetype": "text/x-python",
   "name": "python",
   "nbconvert_exporter": "python",
   "pygments_lexer": "ipython3",
   "version": "3.11.2"
  },
  "vscode": {
   "interpreter": {
    "hash": "49e69bb4716113a91a66de989ea890dd75964954426edc72a646151dbf8fe411"
   }
  }
 },
 "nbformat": 4,
 "nbformat_minor": 5
}
